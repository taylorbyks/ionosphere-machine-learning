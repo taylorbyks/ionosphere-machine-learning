{
  "nbformat": 4,
  "nbformat_minor": 0,
  "metadata": {
    "colab": {
      "name": "TrabalhoAM.ipynb",
      "provenance": [],
      "collapsed_sections": [
        "2AThmGl2E5sM",
        "98rsi4alEM8g"
      ],
      "toc_visible": true
    },
    "kernelspec": {
      "display_name": "Python [default]",
      "language": "python",
      "name": "python3"
    }
  },
  "cells": [
    {
      "cell_type": "code",
      "metadata": {
        "id": "e-7RSuf1x8PM"
      },
      "source": [
        "import pandas as pd\n",
        "import numpy as np\n",
        "import seaborn as sns\n",
        "import statistics\n",
        "from sklearn.metrics import accuracy_score\n",
        "from sklearn.metrics import classification_report, confusion_matrix\n",
        "from sklearn.utils import shuffle\n",
        "from sklearn.model_selection import train_test_split"
      ],
      "execution_count": null,
      "outputs": []
    },
    {
      "cell_type": "markdown",
      "metadata": {
        "id": "u2lPDYBlMapt"
      },
      "source": [
        "#### Importando os classificadores"
      ]
    },
    {
      "cell_type": "code",
      "metadata": {
        "id": "ykX1ES11MaJB"
      },
      "source": [
        "from sklearn.neighbors import KNeighborsClassifier # KNN\n",
        "from sklearn.tree import DecisionTreeClassifier, export_graphviz # Árvore de decisão\n",
        "from sklearn.naive_bayes import GaussianNB # Naive Bayes\n",
        "from sklearn.svm import SVC # SVM\n",
        "from sklearn.neural_network import MLPClassifier # MLP"
      ],
      "execution_count": null,
      "outputs": []
    },
    {
      "cell_type": "markdown",
      "metadata": {
        "id": "a_k8Lvc8jE8B"
      },
      "source": [
        "#### Importando a base de dados\n"
      ]
    },
    {
      "cell_type": "code",
      "metadata": {
        "id": "tGvN21u5gzoO"
      },
      "source": [
        "df = pd.read_csv('/content/ionosphere.csv')\n",
        "df_param = pd.DataFrame(df, columns=df.columns[:-1])"
      ],
      "execution_count": null,
      "outputs": []
    },
    {
      "cell_type": "code",
      "metadata": {
        "id": "lLJ0GnL9g4CG",
        "outputId": "219c677d-15ef-4839-c4db-8f5dbe226047",
        "colab": {
          "base_uri": "https://localhost:8080/"
        }
      },
      "source": [
        "#Vizualização previa da base de dados\n",
        "df.head()"
      ],
      "execution_count": null,
      "outputs": [
        {
          "output_type": "execute_result",
          "data": {
            "text/html": [
              "<div>\n",
              "<style scoped>\n",
              "    .dataframe tbody tr th:only-of-type {\n",
              "        vertical-align: middle;\n",
              "    }\n",
              "\n",
              "    .dataframe tbody tr th {\n",
              "        vertical-align: top;\n",
              "    }\n",
              "\n",
              "    .dataframe thead th {\n",
              "        text-align: right;\n",
              "    }\n",
              "</style>\n",
              "<table border=\"1\" class=\"dataframe\">\n",
              "  <thead>\n",
              "    <tr style=\"text-align: right;\">\n",
              "      <th></th>\n",
              "      <th>A1</th>\n",
              "      <th>A2</th>\n",
              "      <th>A3</th>\n",
              "      <th>A4</th>\n",
              "      <th>A5</th>\n",
              "      <th>A6</th>\n",
              "      <th>A7</th>\n",
              "      <th>A8</th>\n",
              "      <th>A9</th>\n",
              "      <th>A10</th>\n",
              "      <th>A11</th>\n",
              "      <th>A12</th>\n",
              "      <th>A13</th>\n",
              "      <th>A14</th>\n",
              "      <th>A15</th>\n",
              "      <th>A16</th>\n",
              "      <th>A17</th>\n",
              "      <th>A18</th>\n",
              "      <th>A19</th>\n",
              "      <th>A20</th>\n",
              "      <th>A21</th>\n",
              "      <th>A22</th>\n",
              "      <th>A23</th>\n",
              "      <th>A24</th>\n",
              "      <th>A25</th>\n",
              "      <th>A26</th>\n",
              "      <th>A27</th>\n",
              "      <th>A28</th>\n",
              "      <th>A29</th>\n",
              "      <th>A30</th>\n",
              "      <th>A31</th>\n",
              "      <th>A32</th>\n",
              "      <th>A33</th>\n",
              "      <th>A34</th>\n",
              "      <th>Class</th>\n",
              "    </tr>\n",
              "  </thead>\n",
              "  <tbody>\n",
              "    <tr>\n",
              "      <th>0</th>\n",
              "      <td>1</td>\n",
              "      <td>0</td>\n",
              "      <td>0.99539</td>\n",
              "      <td>-0.05889</td>\n",
              "      <td>0.85243</td>\n",
              "      <td>0.02306</td>\n",
              "      <td>0.83398</td>\n",
              "      <td>-0.37708</td>\n",
              "      <td>1.00000</td>\n",
              "      <td>0.03760</td>\n",
              "      <td>0.85243</td>\n",
              "      <td>-0.17755</td>\n",
              "      <td>0.59755</td>\n",
              "      <td>-0.44945</td>\n",
              "      <td>0.60536</td>\n",
              "      <td>-0.38223</td>\n",
              "      <td>0.84356</td>\n",
              "      <td>-0.38542</td>\n",
              "      <td>0.58212</td>\n",
              "      <td>-0.32192</td>\n",
              "      <td>0.56971</td>\n",
              "      <td>-0.29674</td>\n",
              "      <td>0.36946</td>\n",
              "      <td>-0.47357</td>\n",
              "      <td>0.56811</td>\n",
              "      <td>-0.51171</td>\n",
              "      <td>0.41078</td>\n",
              "      <td>-0.46168</td>\n",
              "      <td>0.21266</td>\n",
              "      <td>-0.34090</td>\n",
              "      <td>0.42267</td>\n",
              "      <td>-0.54487</td>\n",
              "      <td>0.18641</td>\n",
              "      <td>-0.45300</td>\n",
              "      <td>g</td>\n",
              "    </tr>\n",
              "    <tr>\n",
              "      <th>1</th>\n",
              "      <td>1</td>\n",
              "      <td>0</td>\n",
              "      <td>1.00000</td>\n",
              "      <td>-0.18829</td>\n",
              "      <td>0.93035</td>\n",
              "      <td>-0.36156</td>\n",
              "      <td>-0.10868</td>\n",
              "      <td>-0.93597</td>\n",
              "      <td>1.00000</td>\n",
              "      <td>-0.04549</td>\n",
              "      <td>0.50874</td>\n",
              "      <td>-0.67743</td>\n",
              "      <td>0.34432</td>\n",
              "      <td>-0.69707</td>\n",
              "      <td>-0.51685</td>\n",
              "      <td>-0.97515</td>\n",
              "      <td>0.05499</td>\n",
              "      <td>-0.62237</td>\n",
              "      <td>0.33109</td>\n",
              "      <td>-1.00000</td>\n",
              "      <td>-0.13151</td>\n",
              "      <td>-0.45300</td>\n",
              "      <td>-0.18056</td>\n",
              "      <td>-0.35734</td>\n",
              "      <td>-0.20332</td>\n",
              "      <td>-0.26569</td>\n",
              "      <td>-0.20468</td>\n",
              "      <td>-0.18401</td>\n",
              "      <td>-0.19040</td>\n",
              "      <td>-0.11593</td>\n",
              "      <td>-0.16626</td>\n",
              "      <td>-0.06288</td>\n",
              "      <td>-0.13738</td>\n",
              "      <td>-0.02447</td>\n",
              "      <td>b</td>\n",
              "    </tr>\n",
              "    <tr>\n",
              "      <th>2</th>\n",
              "      <td>1</td>\n",
              "      <td>0</td>\n",
              "      <td>1.00000</td>\n",
              "      <td>-0.03365</td>\n",
              "      <td>1.00000</td>\n",
              "      <td>0.00485</td>\n",
              "      <td>1.00000</td>\n",
              "      <td>-0.12062</td>\n",
              "      <td>0.88965</td>\n",
              "      <td>0.01198</td>\n",
              "      <td>0.73082</td>\n",
              "      <td>0.05346</td>\n",
              "      <td>0.85443</td>\n",
              "      <td>0.00827</td>\n",
              "      <td>0.54591</td>\n",
              "      <td>0.00299</td>\n",
              "      <td>0.83775</td>\n",
              "      <td>-0.13644</td>\n",
              "      <td>0.75535</td>\n",
              "      <td>-0.08540</td>\n",
              "      <td>0.70887</td>\n",
              "      <td>-0.27502</td>\n",
              "      <td>0.43385</td>\n",
              "      <td>-0.12062</td>\n",
              "      <td>0.57528</td>\n",
              "      <td>-0.40220</td>\n",
              "      <td>0.58984</td>\n",
              "      <td>-0.22145</td>\n",
              "      <td>0.43100</td>\n",
              "      <td>-0.17365</td>\n",
              "      <td>0.60436</td>\n",
              "      <td>-0.24180</td>\n",
              "      <td>0.56045</td>\n",
              "      <td>-0.38238</td>\n",
              "      <td>g</td>\n",
              "    </tr>\n",
              "    <tr>\n",
              "      <th>3</th>\n",
              "      <td>1</td>\n",
              "      <td>0</td>\n",
              "      <td>1.00000</td>\n",
              "      <td>-0.45161</td>\n",
              "      <td>1.00000</td>\n",
              "      <td>1.00000</td>\n",
              "      <td>0.71216</td>\n",
              "      <td>-1.00000</td>\n",
              "      <td>0.00000</td>\n",
              "      <td>0.00000</td>\n",
              "      <td>0.00000</td>\n",
              "      <td>0.00000</td>\n",
              "      <td>0.00000</td>\n",
              "      <td>0.00000</td>\n",
              "      <td>-1.00000</td>\n",
              "      <td>0.14516</td>\n",
              "      <td>0.54094</td>\n",
              "      <td>-0.39330</td>\n",
              "      <td>-1.00000</td>\n",
              "      <td>-0.54467</td>\n",
              "      <td>-0.69975</td>\n",
              "      <td>1.00000</td>\n",
              "      <td>0.00000</td>\n",
              "      <td>0.00000</td>\n",
              "      <td>1.00000</td>\n",
              "      <td>0.90695</td>\n",
              "      <td>0.51613</td>\n",
              "      <td>1.00000</td>\n",
              "      <td>1.00000</td>\n",
              "      <td>-0.20099</td>\n",
              "      <td>0.25682</td>\n",
              "      <td>1.00000</td>\n",
              "      <td>-0.32382</td>\n",
              "      <td>1.00000</td>\n",
              "      <td>b</td>\n",
              "    </tr>\n",
              "    <tr>\n",
              "      <th>4</th>\n",
              "      <td>1</td>\n",
              "      <td>0</td>\n",
              "      <td>1.00000</td>\n",
              "      <td>-0.02401</td>\n",
              "      <td>0.94140</td>\n",
              "      <td>0.06531</td>\n",
              "      <td>0.92106</td>\n",
              "      <td>-0.23255</td>\n",
              "      <td>0.77152</td>\n",
              "      <td>-0.16399</td>\n",
              "      <td>0.52798</td>\n",
              "      <td>-0.20275</td>\n",
              "      <td>0.56409</td>\n",
              "      <td>-0.00712</td>\n",
              "      <td>0.34395</td>\n",
              "      <td>-0.27457</td>\n",
              "      <td>0.52940</td>\n",
              "      <td>-0.21780</td>\n",
              "      <td>0.45107</td>\n",
              "      <td>-0.17813</td>\n",
              "      <td>0.05982</td>\n",
              "      <td>-0.35575</td>\n",
              "      <td>0.02309</td>\n",
              "      <td>-0.52879</td>\n",
              "      <td>0.03286</td>\n",
              "      <td>-0.65158</td>\n",
              "      <td>0.13290</td>\n",
              "      <td>-0.53206</td>\n",
              "      <td>0.02431</td>\n",
              "      <td>-0.62197</td>\n",
              "      <td>-0.05707</td>\n",
              "      <td>-0.59573</td>\n",
              "      <td>-0.04608</td>\n",
              "      <td>-0.65697</td>\n",
              "      <td>g</td>\n",
              "    </tr>\n",
              "  </tbody>\n",
              "</table>\n",
              "</div>"
            ],
            "text/plain": [
              "   A1  A2       A3       A4       A5  ...      A31      A32      A33      A34  Class\n",
              "0   1   0  0.99539 -0.05889  0.85243  ...  0.42267 -0.54487  0.18641 -0.45300      g\n",
              "1   1   0  1.00000 -0.18829  0.93035  ... -0.16626 -0.06288 -0.13738 -0.02447      b\n",
              "2   1   0  1.00000 -0.03365  1.00000  ...  0.60436 -0.24180  0.56045 -0.38238      g\n",
              "3   1   0  1.00000 -0.45161  1.00000  ...  0.25682  1.00000 -0.32382  1.00000      b\n",
              "4   1   0  1.00000 -0.02401  0.94140  ... -0.05707 -0.59573 -0.04608 -0.65697      g\n",
              "\n",
              "[5 rows x 35 columns]"
            ]
          },
          "metadata": {
            "tags": []
          },
          "execution_count": 131
        }
      ]
    },
    {
      "cell_type": "code",
      "metadata": {
        "id": "dDJb9WzbgqUT",
        "outputId": "b3cd0d79-83b6-4bac-c878-0b0a030b5be3",
        "colab": {
          "base_uri": "https://localhost:8080/"
        }
      },
      "source": [
        "print(df_param.shape) # Mostra a quantidade de dados na base de dados"
      ],
      "execution_count": null,
      "outputs": [
        {
          "output_type": "stream",
          "text": [
            "(351, 34)\n"
          ],
          "name": "stdout"
        }
      ]
    },
    {
      "cell_type": "markdown",
      "metadata": {
        "id": "hLXIzZzbjPtE"
      },
      "source": [
        "#### Definimos o conjunto de teste\n"
      ]
    },
    {
      "cell_type": "code",
      "metadata": {
        "id": "IIgvCdXVOB5p",
        "outputId": "594169bb-86d0-410f-a373-6422981604dc",
        "colab": {
          "base_uri": "https://localhost:8080/"
        }
      },
      "source": [
        "#Realiza a divisão (metade para cada, 50% para treino e 50% para restante)\n",
        "x_treino, x_restante, y_treino, y_restante = train_test_split(df_param, df['Class'], test_size=0.5, shuffle=True, stratify=df['Class'])\n",
        "\n",
        "#Realiza a divisão do restante (metade para cada, 50% para teste e 50% para validação)\n",
        "x_validacao, x_teste, y_validacao, y_teste = train_test_split(x_restante, y_restante, test_size=0.5, shuffle=True, stratify=y_restante)\n",
        "print('Treino')\n",
        "print(x_treino.shape) # 50% (351/2 = 175,5)\n",
        "print(np.unique(y_treino, return_counts=True))\n",
        "print(' ')\n",
        "print('Teste')\n",
        "print(x_teste.shape) # 25% (351/4 = 88)\n",
        "print(np.unique(y_teste, return_counts=True))\n",
        "print(' ')\n",
        "print('Validação')\n",
        "print(x_validacao.shape) # 25% (351/4 = 88)\n",
        "print(np.unique(y_validacao, return_counts=True))\n"
      ],
      "execution_count": null,
      "outputs": [
        {
          "output_type": "stream",
          "text": [
            "Treino\n",
            "(175, 34)\n",
            "(array(['b', 'g'], dtype=object), array([ 63, 112]))\n",
            " \n",
            "Teste\n",
            "(88, 34)\n",
            "(array(['b', 'g'], dtype=object), array([32, 56]))\n",
            " \n",
            "Validação\n",
            "(88, 34)\n",
            "(array(['b', 'g'], dtype=object), array([31, 57]))\n"
          ],
          "name": "stdout"
        }
      ]
    },
    {
      "cell_type": "markdown",
      "metadata": {
        "id": "KWNjSL_L4OMD"
      },
      "source": [
        "# Obtendo os melhores parametros"
      ]
    },
    {
      "cell_type": "markdown",
      "metadata": {
        "id": "B-_bVZYzUIcW"
      },
      "source": [
        "## KNN"
      ]
    },
    {
      "cell_type": "code",
      "metadata": {
        "id": "JVQwCwBpUHa_",
        "outputId": "1640b983-217c-4229-ef8c-badaf204ea5c",
        "colab": {
          "base_uri": "https://localhost:8080/"
        }
      },
      "source": [
        "#KNN Não ponderado\n",
        "print('KNN Não ponderado')\n",
        "# Inicializa um array vazio onde sera gravado a acuracia\n",
        "acuracia = []\n",
        "\n",
        "for i in range (1,21):\n",
        "  knn = KNeighborsClassifier(n_neighbors=i, weights='uniform')\n",
        "  knn.fit(x_treino, y_treino)\n",
        "  prev = knn.predict(x_validacao)\n",
        "  \n",
        "  # Grava a acuracia com o k = i na posicao i+1\n",
        "  acuracia.append(accuracy_score(y_validacao, prev))\n",
        "\n",
        "melhor_k = np.argmax(acuracia)+1  # Grava o valor que apresentou o melhor resuldado\n",
        "print(\"Melhor K = \", melhor_k) # Mostra o valor que apresentou a maior acuracia\n",
        "print(\"Acuracia com o K=\", melhor_k, \" = \", acuracia[np.argmax(acuracia)])\n",
        "print(acuracia)\n",
        "print(\"\")\n",
        "  \n",
        "#KNN Ponderado pelo inverso da distância euclidiana\n",
        "print('KNN Ponderado pelo inverso da distância euclidiana')\n",
        "# Inicializa um array vazio onde sera gravado a acuracia\n",
        "acuracia = []\n",
        "\n",
        "for i in range (1,21):\n",
        "  knn = KNeighborsClassifier(n_neighbors=i, metric='euclidean', weights='distance')\n",
        "  knn.fit(x_treino, y_treino)\n",
        "  prev = knn.predict(x_validacao)\n",
        "  \n",
        "  # Grava a acuracia com o k = i na posicao i+1\n",
        "  acuracia.append(accuracy_score(y_validacao, prev))\n",
        "\n",
        "melhor_k = np.argmax(acuracia)+1  # Grava o valor que apresentou o melhor resuldado\n",
        "print(\"Melhor K = \", melhor_k) # Mostra o valor que apresentou a maior acuracia\n",
        "print(\"Acuracia com o K=\", melhor_k, \" = \", acuracia[np.argmax(acuracia)])\n",
        "print(acuracia)\n",
        "print(\"\")"
      ],
      "execution_count": null,
      "outputs": [
        {
          "output_type": "stream",
          "text": [
            "KNN Não ponderado\n",
            "Melhor K =  2\n",
            "Acuracia com o K= 2  =  0.875\n",
            "[0.8181818181818182, 0.875, 0.8295454545454546, 0.8409090909090909, 0.8181818181818182, 0.8409090909090909, 0.8068181818181818, 0.8295454545454546, 0.7954545454545454, 0.8068181818181818, 0.7613636363636364, 0.7727272727272727, 0.7613636363636364, 0.7840909090909091, 0.7840909090909091, 0.7954545454545454, 0.7954545454545454, 0.8068181818181818, 0.7727272727272727, 0.7840909090909091]\n",
            "\n",
            "KNN Ponderado pelo inverso da distância euclidiana\n",
            "Melhor K =  3\n",
            "Acuracia com o K= 3  =  0.8295454545454546\n",
            "[0.8181818181818182, 0.8181818181818182, 0.8295454545454546, 0.8295454545454546, 0.8181818181818182, 0.8295454545454546, 0.8068181818181818, 0.8068181818181818, 0.7954545454545454, 0.7840909090909091, 0.7613636363636364, 0.7613636363636364, 0.7613636363636364, 0.7840909090909091, 0.7840909090909091, 0.7840909090909091, 0.7954545454545454, 0.7954545454545454, 0.7727272727272727, 0.7840909090909091]\n",
            "\n"
          ],
          "name": "stdout"
        }
      ]
    },
    {
      "cell_type": "markdown",
      "metadata": {
        "id": "2AThmGl2E5sM"
      },
      "source": [
        "## Árvore de decisão"
      ]
    },
    {
      "cell_type": "markdown",
      "metadata": {
        "id": "k1Uc2sP7RdwN"
      },
      "source": [
        "### Encontrando os melhores parametros"
      ]
    },
    {
      "cell_type": "code",
      "metadata": {
        "id": "Mh3diG1oFGNH",
        "outputId": "4dba3bd9-fe73-4f8f-8d2b-973522fdf3f4",
        "colab": {
          "base_uri": "https://localhost:8080/"
        }
      },
      "source": [
        "# Árvore sem poda\n",
        "ad = DecisionTreeClassifier()\n",
        "ad.fit(x_treino, y_treino) \n",
        "prev = ad.predict(x_validacao)\n",
        "\n",
        "print(\"Nós = \", ad.tree_.node_count)\n",
        "\n",
        "depth = ad.get_depth() # Pega a densidade da árvore sem poda\n",
        "depth = depth + 1 # Adiciona um para rodar um a mais da densidade maxima\n",
        "\n",
        "# Inicializa um array vazio onde sera gravado a acuracia\n",
        "acuracia = []\n",
        "\n",
        "# Comparando todas as árvores possiveis\n",
        "for i in range (1, depth):\n",
        "  ad = DecisionTreeClassifier(max_depth = i)\n",
        "  ad.fit(x_treino, y_treino) \n",
        "  prev = ad.predict(x_validacao)\n",
        "  # Grava a taxa de erro com o max_depth = i na posicao i+1\n",
        "  acuracia.append(accuracy_score(y_validacao, prev))\n",
        "  print(\"Nós = \", ad.tree_.node_count)\n",
        "\n",
        "melhor_max_depth = np.argmax(acuracia)+1  # Grava o valor que apresentou o melhor resuldado\n",
        "print(acuracia)\n",
        "print(\"Melhor densidade = \", melhor_max_depth) # Mostra o valor que apresentou a maior acuracia\n",
        "print(\"Acuracia com a densidade =\", melhor_max_depth, \" = \", acuracia[np.argmax(acuracia)])"
      ],
      "execution_count": null,
      "outputs": [
        {
          "output_type": "stream",
          "text": [
            "Nós =  29\n",
            "Nós =  3\n",
            "Nós =  7\n",
            "Nós =  13\n",
            "Nós =  19\n",
            "Nós =  23\n",
            "Nós =  25\n",
            "Nós =  27\n",
            "Nós =  29\n",
            "[0.7954545454545454, 0.9545454545454546, 0.8863636363636364, 0.9659090909090909, 0.9772727272727273, 0.9545454545454546, 0.9431818181818182, 0.9431818181818182]\n",
            "Melhor densidade =  5\n",
            "Acuracia com a densidade = 5  =  0.9772727272727273\n"
          ],
          "name": "stdout"
        }
      ]
    },
    {
      "cell_type": "markdown",
      "metadata": {
        "id": "3g5moaF8dnt-"
      },
      "source": [
        "A melhor densidade foi 3, a árvore ficou com 7 nós"
      ]
    },
    {
      "cell_type": "markdown",
      "metadata": {
        "id": "YpnJCw6TRWys"
      },
      "source": [
        "### Rodando o classificador com os melhores parametros obtidos"
      ]
    },
    {
      "cell_type": "code",
      "metadata": {
        "id": "xV0qyPA4RVI3",
        "outputId": "df6ef0d5-46be-42fe-f652-ee2fbe1dab7f",
        "colab": {
          "base_uri": "https://localhost:8080/"
        }
      },
      "source": [
        "# Inicializa o classificador com o melhor parametro\n",
        "ad = DecisionTreeClassifier(max_depth = 3)\n",
        "ad.fit(x_treino, y_treino) \n",
        "prev = ad.predict(x_teste)\n",
        "\n",
        "# Avalia a precisão\n",
        "print(accuracy_score(y_teste, prev))\n",
        "print(confusion_matrix(y_teste, prev))"
      ],
      "execution_count": null,
      "outputs": [
        {
          "output_type": "stream",
          "text": [
            "0.8522727272727273\n",
            "[[21 10]\n",
            " [ 3 54]]\n"
          ],
          "name": "stdout"
        }
      ]
    },
    {
      "cell_type": "markdown",
      "metadata": {
        "id": "DB7pAV2SRnN7"
      },
      "source": [
        "### Visualização gráfica da arvore"
      ]
    },
    {
      "cell_type": "code",
      "metadata": {
        "id": "fAlQGRztJqfx",
        "outputId": "07a502ae-d5c5-4f92-c485-d7e0546af22f",
        "colab": {
          "base_uri": "https://localhost:8080/"
        }
      },
      "source": [
        "# Necessario fazer a instalação para exibir a árvore graficamente\n",
        "!apt-get install python-pydot\n",
        "!pip install pydotplus"
      ],
      "execution_count": null,
      "outputs": [
        {
          "output_type": "stream",
          "text": [
            "Reading package lists... Done\n",
            "Building dependency tree       \n",
            "Reading state information... Done\n",
            "python-pydot is already the newest version (1.2.3-1).\n",
            "0 upgraded, 0 newly installed, 0 to remove and 12 not upgraded.\n",
            "Requirement already satisfied: pydotplus in /usr/local/lib/python3.6/dist-packages (2.0.2)\n",
            "Requirement already satisfied: pyparsing>=2.0.1 in /usr/local/lib/python3.6/dist-packages (from pydotplus) (2.4.7)\n"
          ],
          "name": "stdout"
        }
      ]
    },
    {
      "cell_type": "code",
      "metadata": {
        "id": "tcVR0G2xJKRQ",
        "outputId": "fe68377f-f5f7-435c-db77-4130c71c1ebe",
        "colab": {
          "base_uri": "https://localhost:8080/",
          "height": 514
        }
      },
      "source": [
        "from sklearn.externals.six import StringIO\n",
        "from IPython.display import Image\n",
        "import pydotplus\n",
        "\n",
        "dot_data = StringIO()\n",
        "export_graphviz(ad, out_file=dot_data)\n",
        "graph = pydotplus.graph_from_dot_data(dot_data.getvalue())  \n",
        "Image(graph.create_png())"
      ],
      "execution_count": null,
      "outputs": [
        {
          "output_type": "execute_result",
          "data": {
            "image/png": "[encoded data removed]",
            "text/plain": [
              "<IPython.core.display.Image object>"
            ]
          },
          "metadata": {
            "tags": []
          },
          "execution_count": 123
        }
      ]
    },
    {
      "cell_type": "markdown",
      "metadata": {
        "id": "98rsi4alEM8g"
      },
      "source": [
        "## Naive Bayes"
      ]
    },
    {
      "cell_type": "code",
      "metadata": {
        "id": "VzctigKoCiHe",
        "outputId": "6c2ed379-0b9c-4d72-bf2a-2d4aa8165e45",
        "colab": {
          "base_uri": "https://localhost:8080/"
        }
      },
      "source": [
        "# Inicializa o classificador\n",
        "nb = GaussianNB()\n",
        "\n",
        "# Treina o classificador\n",
        "nb.fit(x_treino, y_treino)\n",
        "prev = nb.predict(x_teste)\n",
        "\n",
        "# Avalia a precisão\n",
        "print(accuracy_score(y_teste, prev))\n",
        "print(confusion_matrix(y_teste, prev))\n"
      ],
      "execution_count": null,
      "outputs": [
        {
          "output_type": "stream",
          "text": [
            "0.9318181818181818\n",
            "[[26  5]\n",
            " [ 1 56]]\n"
          ],
          "name": "stdout"
        }
      ]
    },
    {
      "cell_type": "markdown",
      "metadata": {
        "id": "xasMbDk1NMel"
      },
      "source": [
        "## SVM"
      ]
    },
    {
      "cell_type": "markdown",
      "metadata": {
        "id": "uhAE6fWwR8N1"
      },
      "source": [
        "### Encontrando os melhores parametros"
      ]
    },
    {
      "cell_type": "code",
      "metadata": {
        "id": "qSnTa5E-NOs2",
        "outputId": "862835f9-19ed-4137-ae0e-8a145729b881",
        "colab": {
          "base_uri": "https://localhost:8080/"
        }
      },
      "source": [
        "#SVM Polinomial\n",
        "print('SVM Polinomial')\n",
        "# Inicializa um array vazio onde será gravado a acuracia\n",
        "acuracia = []\n",
        "\n",
        "# Testa vários degree no classificador\n",
        "for i in range(1,21):\n",
        "  svm_polinomial = SVC(C=i, kernel='poly')\n",
        "  svm_polinomial.fit(x_treino, y_treino)\n",
        "  prev = svm_polinomial.predict(x_validacao)\n",
        "  # Grava a taxa de erro com o c = i na posicao i+1\n",
        "  acuracia.append(accuracy_score(y_validacao, prev))\n",
        "\n",
        "melhor_c = (np.argmax(acuracia)+1) # Grava o valor que apresentou o melhor resuldado\n",
        "print(acuracia) # Mostra as acuracias\n",
        "print(\"Melhor C = \", melhor_c) # Mostra o valor que apresentou a maior acuracia\n",
        "print(\"Acuracia com o C =\", melhor_c, \" = \", acuracia[np.argmax(acuracia)])\n",
        "print('------------------------------------------------------------------')\n",
        "# SVM Radial\n",
        "print('SVM Radial')\n",
        "acuracia = []\n",
        "\n",
        "for i in range(1,20):\n",
        "  svm_radial = SVC(C=i, kernel='rbf')\n",
        "  svm_radial.fit(x_treino, y_treino)\n",
        "  prev = svm_radial.predict(x_validacao)\n",
        "  # Grava a taxa de erro com o degree = i na posicao i+1\n",
        "  acuracia.append(accuracy_score(y_validacao, prev))\n",
        "\n",
        "melhor_c = (np.argmax(acuracia)+1) # Grava o valor que apresentou o melhor resuldado\n",
        "print(acuracia) # Mostra as taxas de erro\n",
        "print(\"Melhor C = \", melhor_c) # Mostra o valor que apresentou a maior acuracia\n",
        "print(\"Acuracia com o C =\", melhor_c, \" = \", acuracia[np.argmax(acuracia)])"
      ],
      "execution_count": null,
      "outputs": [
        {
          "output_type": "stream",
          "text": [
            "SVM Polinomial\n",
            "[0.9090909090909091, 0.9204545454545454, 0.9431818181818182, 0.9431818181818182, 0.9431818181818182, 0.9431818181818182, 0.9431818181818182, 0.9431818181818182, 0.9204545454545454, 0.9090909090909091, 0.9090909090909091, 0.9204545454545454, 0.9204545454545454, 0.9204545454545454, 0.9204545454545454, 0.9318181818181818, 0.9318181818181818, 0.9318181818181818, 0.9318181818181818, 0.9318181818181818]\n",
            "Melhor C =  3\n",
            "Acuracia com o C = 3  =  0.9431818181818182\n",
            "------------------------------------------------------------------\n",
            "SVM Radial\n",
            "[0.9886363636363636, 0.9886363636363636, 0.9659090909090909, 0.9772727272727273, 0.9772727272727273, 0.9772727272727273, 0.9772727272727273, 0.9772727272727273, 0.9772727272727273, 0.9772727272727273, 0.9772727272727273, 0.9772727272727273, 0.9772727272727273, 0.9772727272727273, 0.9772727272727273, 0.9772727272727273, 0.9772727272727273, 0.9772727272727273, 0.9659090909090909]\n",
            "Melhor C =  1\n",
            "Acuracia com o C = 1  =  0.9886363636363636\n"
          ],
          "name": "stdout"
        }
      ]
    },
    {
      "cell_type": "markdown",
      "metadata": {
        "id": "LuOLDNlneS8Z"
      },
      "source": [
        "O melhor SVM foi o radial com o C = 2\n",
        "\n"
      ]
    },
    {
      "cell_type": "markdown",
      "metadata": {
        "id": "BDseZ-z4FPZS"
      },
      "source": [
        "## MLP"
      ]
    },
    {
      "cell_type": "code",
      "metadata": {
        "id": "wb-PhEoHFQ5z",
        "outputId": "b67fb2f0-cc4c-4003-b1dd-bda16354f2eb",
        "colab": {
          "base_uri": "https://localhost:8080/"
        }
      },
      "source": [
        "acuracia = []\n",
        "\n",
        "# Inicializa o classificador\n",
        "for i in range (1,10):\n",
        "  for j in range (1,10):\n",
        "    for k in range (1,10):\n",
        "      mlp = MLPClassifier(max_iter=(k*200) , hidden_layer_sizes=(j*50), learning_rate_init=((i)/10) )\n",
        "      mlp.fit(x_treino, y_treino)\n",
        "      prev = mlp.predict(x_validacao)\n",
        "      \n",
        "      # Grava a acuracia com o k = i na posição i+1\n",
        "      acuracia.append(accuracy_score(y_validacao, prev))\n",
        "\n",
        "melhor_param = str(np.argmax(acuracia)+111)\n",
        "print(acuracia)\n",
        "\n",
        "melhor_max_iter = int(melhor_param[0])*200 # Grava os parametros que apresentaram o melhor resultado\n",
        "melhor_hidden_layer = int(melhor_param[1])*50\n",
        "melhor_learning_rate = int(melhor_param[2])/10\n",
        "print(\"Melhor max iter = \", melhor_max_iter) # Mostra o valor que apresentou a maior acuracia\n",
        "print(\"Melhor hidden layer = \",melhor_hidden_layer)\n",
        "print(\"Melhor learning rate = \",melhor_learning_rate)\n",
        "print(\"Acuracia com os melhores parametros = \", acuracia[np.argmax(acuracia)])"
      ],
      "execution_count": null,
      "outputs": [
        {
          "output_type": "stream",
          "text": [
            "[0.9431818181818182, 0.9431818181818182, 0.9545454545454546, 0.9545454545454546, 0.9318181818181818, 0.9659090909090909, 0.9431818181818182, 0.9431818181818182, 0.9431818181818182, 0.9318181818181818, 0.9659090909090909, 0.9545454545454546, 0.9431818181818182, 0.9431818181818182, 0.9318181818181818, 0.9545454545454546, 0.9545454545454546, 0.9545454545454546, 0.9318181818181818, 0.9431818181818182, 0.9431818181818182, 0.9318181818181818, 0.9659090909090909, 0.9545454545454546, 0.9431818181818182, 0.9659090909090909, 0.9318181818181818, 0.9431818181818182, 0.9318181818181818, 0.9431818181818182, 0.9431818181818182, 0.9545454545454546, 0.9545454545454546, 0.9545454545454546, 0.9318181818181818, 0.9545454545454546, 0.9318181818181818, 0.9659090909090909, 0.9318181818181818, 0.9431818181818182, 0.9431818181818182, 0.9431818181818182, 0.9431818181818182, 0.9545454545454546, 0.9431818181818182, 0.9431818181818182, 0.9431818181818182, 0.9545454545454546, 0.9545454545454546, 0.9431818181818182, 0.9431818181818182, 0.9431818181818182, 0.9431818181818182, 0.9318181818181818, 0.9431818181818182, 0.9204545454545454, 0.9318181818181818, 0.9545454545454546, 0.9545454545454546, 0.9318181818181818, 0.9318181818181818, 0.9545454545454546, 0.9318181818181818, 0.9545454545454546, 0.9431818181818182, 0.9545454545454546, 0.9545454545454546, 0.9545454545454546, 0.9431818181818182, 0.9431818181818182, 0.9431818181818182, 0.9431818181818182, 0.9431818181818182, 0.9318181818181818, 0.9318181818181818, 0.9318181818181818, 0.9431818181818182, 0.9431818181818182, 0.9318181818181818, 0.9545454545454546, 0.9431818181818182, 0.9545454545454546, 0.9545454545454546, 0.9545454545454546, 0.9318181818181818, 0.9545454545454546, 0.9204545454545454, 0.9545454545454546, 0.9545454545454546, 0.9545454545454546, 0.9431818181818182, 0.875, 0.9318181818181818, 0.9431818181818182, 0.9090909090909091, 0.9431818181818182, 0.9431818181818182, 0.9318181818181818, 0.9318181818181818, 0.9545454545454546, 0.9204545454545454, 0.9204545454545454, 0.9659090909090909, 0.9431818181818182, 0.9431818181818182, 0.9318181818181818, 0.9431818181818182, 0.9090909090909091, 0.9090909090909091, 0.9090909090909091, 0.9318181818181818, 0.8977272727272727, 0.8636363636363636, 0.8977272727272727, 0.8977272727272727, 0.9545454545454546, 0.9204545454545454, 0.8409090909090909, 0.8863636363636364, 0.8977272727272727, 0.875, 0.8977272727272727, 0.9431818181818182, 0.9090909090909091, 0.8295454545454546, 0.9204545454545454, 0.9204545454545454, 0.9090909090909091, 0.9204545454545454, 0.9318181818181818, 0.9204545454545454, 0.8863636363636364, 0.8863636363636364, 0.9318181818181818, 0.9204545454545454, 0.9090909090909091, 0.8977272727272727, 0.8863636363636364, 0.9090909090909091, 0.8409090909090909, 0.8863636363636364, 0.9318181818181818, 0.9204545454545454, 0.8863636363636364, 0.8863636363636364, 0.9318181818181818, 0.8977272727272727, 0.9318181818181818, 0.9090909090909091, 0.9090909090909091, 0.875, 0.9090909090909091, 0.8522727272727273, 0.9090909090909091, 0.8636363636363636, 0.9090909090909091, 0.9204545454545454, 0.875, 0.8522727272727273, 0.875, 0.9204545454545454, 0.9204545454545454, 0.9318181818181818, 0.9431818181818182, 0.9318181818181818, 0.9318181818181818, 0.9318181818181818, 0.8409090909090909, 0.9204545454545454, 0.875, 0.9431818181818182, 0.8863636363636364, 0.9204545454545454, 0.9090909090909091, 0.875, 0.9318181818181818, 0.9090909090909091, 0.75, 0.875, 0.8522727272727273, 0.9090909090909091, 0.9318181818181818, 0.8977272727272727, 0.9545454545454546, 0.8977272727272727, 0.9204545454545454, 0.8977272727272727, 0.9090909090909091, 0.9318181818181818, 0.8863636363636364, 0.8863636363636364, 0.875, 0.8295454545454546, 0.9090909090909091, 0.875, 0.8068181818181818, 0.875, 0.875, 0.8977272727272727, 0.9090909090909091, 0.8295454545454546, 0.8068181818181818, 0.9204545454545454, 0.8863636363636364, 0.9090909090909091, 0.9090909090909091, 0.8181818181818182, 0.9318181818181818, 0.9431818181818182, 0.8977272727272727, 0.9090909090909091, 0.875, 0.8977272727272727, 0.9204545454545454, 0.8522727272727273, 0.8977272727272727, 0.875, 0.8977272727272727, 0.8977272727272727, 0.8295454545454546, 0.8977272727272727, 0.9204545454545454, 0.8977272727272727, 0.8863636363636364, 0.8863636363636364, 0.8636363636363636, 0.875, 0.9090909090909091, 0.875, 0.8636363636363636, 0.9204545454545454, 0.9090909090909091, 0.8863636363636364, 0.8863636363636364, 0.8977272727272727, 0.8977272727272727, 0.875, 0.8863636363636364, 0.8977272727272727, 0.8863636363636364, 0.9090909090909091, 0.8977272727272727, 0.8636363636363636, 0.8977272727272727, 0.9318181818181818, 0.8181818181818182, 0.9204545454545454, 0.9318181818181818, 0.875, 0.9431818181818182, 0.8863636363636364, 0.8977272727272727, 0.9204545454545454, 0.9090909090909091, 0.875, 0.8863636363636364, 0.8409090909090909, 0.9204545454545454, 0.9318181818181818, 0.9090909090909091, 0.8863636363636364, 0.8863636363636364, 0.9545454545454546, 0.8863636363636364, 0.8295454545454546, 0.9431818181818182, 0.9318181818181818, 0.9204545454545454, 0.9545454545454546, 0.8863636363636364, 0.8863636363636364, 0.8863636363636364, 0.8181818181818182, 0.8863636363636364, 0.8863636363636364, 0.8522727272727273, 0.8522727272727273, 0.875, 0.875, 0.875, 0.9090909090909091, 0.8636363636363636, 0.8977272727272727, 0.875, 0.875, 0.8977272727272727, 0.8863636363636364, 0.8977272727272727, 0.875, 0.8636363636363636, 0.8863636363636364, 0.9204545454545454, 0.8409090909090909, 0.8863636363636364, 0.8522727272727273, 0.8977272727272727, 0.8863636363636364, 0.8636363636363636, 0.8522727272727273, 0.8977272727272727, 0.8522727272727273, 0.9090909090909091, 0.8977272727272727, 0.8636363636363636, 0.8636363636363636, 0.8977272727272727, 0.8863636363636364, 0.875, 0.9090909090909091, 0.9204545454545454, 0.9090909090909091, 0.8636363636363636, 0.8863636363636364, 0.9090909090909091, 0.8636363636363636, 0.8977272727272727, 0.9090909090909091, 0.875, 0.8863636363636364, 0.9090909090909091, 0.8863636363636364, 0.875, 0.9204545454545454, 0.875, 0.7954545454545454, 0.9204545454545454, 0.875, 0.9318181818181818, 0.8977272727272727, 0.875, 0.9204545454545454, 0.7727272727272727, 0.8636363636363636, 0.9318181818181818, 0.8977272727272727, 0.8636363636363636, 0.8977272727272727, 0.9090909090909091, 0.8181818181818182, 0.8295454545454546, 0.8295454545454546, 0.875, 0.8863636363636364, 0.875, 0.8522727272727273, 0.8977272727272727, 0.9204545454545454, 0.8863636363636364, 0.7954545454545454, 0.8636363636363636, 0.9318181818181818, 0.875, 0.9204545454545454, 0.8636363636363636, 0.9090909090909091, 0.8977272727272727, 0.9090909090909091, 0.8295454545454546, 0.8181818181818182, 0.875, 0.8977272727272727, 0.8863636363636364, 0.9090909090909091, 0.9090909090909091, 0.8863636363636364, 0.8977272727272727, 0.9090909090909091, 0.8977272727272727, 0.8977272727272727, 0.8863636363636364, 0.9090909090909091, 0.8863636363636364, 0.8863636363636364, 0.8863636363636364, 0.8863636363636364, 0.9090909090909091, 0.8522727272727273, 0.9090909090909091, 0.8977272727272727, 0.9090909090909091, 0.8636363636363636, 0.875, 0.8636363636363636, 0.875, 0.8522727272727273, 0.9090909090909091, 0.8522727272727273, 0.875, 0.875, 0.9318181818181818, 0.8977272727272727, 0.8977272727272727, 0.8977272727272727, 0.875, 0.875, 0.8636363636363636, 0.8977272727272727, 0.875, 0.9090909090909091, 0.9204545454545454, 0.8863636363636364, 0.9090909090909091, 0.9318181818181818, 0.8863636363636364, 0.9090909090909091, 0.7840909090909091, 0.8409090909090909, 0.9090909090909091, 0.9204545454545454, 0.8522727272727273, 0.9204545454545454, 0.7840909090909091, 0.875, 0.8636363636363636, 0.8295454545454546, 0.8977272727272727, 0.8295454545454546, 0.8522727272727273, 0.8636363636363636, 0.9431818181818182, 0.875, 0.9090909090909091, 0.7954545454545454, 0.7045454545454546, 0.8068181818181818, 0.875, 0.8636363636363636, 0.8636363636363636, 0.7954545454545454, 0.8295454545454546, 0.8636363636363636, 0.8863636363636364, 0.9090909090909091, 0.8977272727272727, 0.8977272727272727, 0.9431818181818182, 0.8522727272727273, 0.8181818181818182, 0.9545454545454546, 0.9204545454545454, 0.8636363636363636, 0.8863636363636364, 0.8863636363636364, 0.8977272727272727, 0.9090909090909091, 0.8977272727272727, 0.8295454545454546, 0.9204545454545454, 0.8636363636363636, 0.8636363636363636, 0.8977272727272727, 0.9204545454545454, 0.9204545454545454, 0.9090909090909091, 0.875, 0.8863636363636364, 0.9318181818181818, 0.8636363636363636, 0.875, 0.9204545454545454, 0.8977272727272727, 0.9090909090909091, 0.9090909090909091, 0.9090909090909091, 0.8977272727272727, 0.8636363636363636, 0.9090909090909091, 0.8977272727272727, 0.8863636363636364, 0.8863636363636364, 0.9090909090909091, 0.8863636363636364, 0.9204545454545454, 0.9318181818181818, 0.9204545454545454, 0.9090909090909091, 0.9090909090909091, 0.8977272727272727, 0.9090909090909091, 0.8977272727272727, 0.9090909090909091, 0.8636363636363636, 0.9090909090909091, 0.9090909090909091, 0.9090909090909091, 0.8977272727272727, 0.8409090909090909, 0.875, 0.8522727272727273, 0.875, 0.8977272727272727, 0.9318181818181818, 0.8977272727272727, 0.8977272727272727, 0.8522727272727273, 0.8522727272727273, 0.8977272727272727, 0.875, 0.8636363636363636, 0.8522727272727273, 0.9204545454545454, 0.8977272727272727, 0.7045454545454546, 0.8977272727272727, 0.9318181818181818, 0.8863636363636364, 0.9431818181818182, 0.8295454545454546, 0.9318181818181818, 0.9090909090909091, 0.8522727272727273, 0.6590909090909091, 0.875, 0.875, 0.8863636363636364, 0.875, 0.9204545454545454, 0.875, 0.8863636363636364, 0.8863636363636364, 0.8863636363636364, 0.8636363636363636, 0.9204545454545454, 0.9090909090909091, 0.8636363636363636, 0.8636363636363636, 0.8977272727272727, 0.8977272727272727, 0.8863636363636364, 0.9090909090909091, 0.8977272727272727, 0.9204545454545454, 0.8977272727272727, 0.9090909090909091, 0.8636363636363636, 0.8977272727272727, 0.8977272727272727, 0.8977272727272727, 0.8863636363636364, 0.8977272727272727, 0.8977272727272727, 0.9204545454545454, 0.8977272727272727, 0.8636363636363636, 0.9090909090909091, 0.9090909090909091, 0.8863636363636364, 0.9204545454545454, 0.8977272727272727, 0.9431818181818182, 0.8522727272727273, 0.8977272727272727, 0.9090909090909091, 0.9204545454545454, 0.9090909090909091, 0.875, 0.8863636363636364, 0.8636363636363636, 0.9204545454545454, 0.8863636363636364, 0.9090909090909091, 0.9090909090909091, 0.9090909090909091, 0.9090909090909091, 0.9431818181818182, 0.875, 0.8863636363636364, 0.42045454545454547, 0.8977272727272727, 0.9318181818181818, 0.8068181818181818, 0.8409090909090909, 0.7840909090909091, 0.75, 0.9090909090909091, 0.8522727272727273, 0.8977272727272727, 0.875, 0.6022727272727273, 0.8636363636363636, 0.8522727272727273, 0.8977272727272727, 0.8863636363636364, 0.8409090909090909, 0.875, 0.9090909090909091, 0.8977272727272727, 0.9090909090909091, 0.875, 0.875, 0.875, 0.8636363636363636, 0.9090909090909091, 0.875, 0.8863636363636364, 0.875, 0.875, 0.8409090909090909, 0.8977272727272727, 0.9090909090909091, 0.8522727272727273, 0.875, 0.9204545454545454, 0.8863636363636364, 0.9090909090909091, 0.875, 0.9090909090909091, 0.875, 0.8863636363636364, 0.875, 0.9090909090909091, 0.9431818181818182, 0.8977272727272727, 0.8977272727272727, 0.9318181818181818, 0.8977272727272727, 0.875, 0.9318181818181818, 0.8522727272727273, 0.8977272727272727, 0.8863636363636364, 0.9090909090909091, 0.9090909090909091, 0.8863636363636364, 0.8863636363636364, 0.875, 0.9318181818181818, 0.8977272727272727, 0.8863636363636364, 0.9090909090909091, 0.9090909090909091, 0.9204545454545454, 0.875, 0.9204545454545454, 0.8977272727272727, 0.9204545454545454, 0.8636363636363636, 0.8977272727272727, 0.9090909090909091, 0.8977272727272727, 0.8977272727272727, 0.8522727272727273, 0.875, 0.8863636363636364, 0.8181818181818182, 0.8863636363636364, 0.875, 0.8636363636363636, 0.8863636363636364, 0.875, 0.7613636363636364, 0.9204545454545454, 0.8068181818181818, 0.8863636363636364, 0.8181818181818182, 0.8863636363636364, 0.9545454545454546, 0.9204545454545454, 0.8863636363636364, 0.7727272727272727, 0.8181818181818182, 0.8409090909090909, 0.8977272727272727, 0.8977272727272727, 0.875, 0.8863636363636364, 0.8863636363636364, 0.875, 0.875, 0.9090909090909091, 0.8977272727272727, 0.875, 0.9204545454545454, 0.9204545454545454, 0.8522727272727273, 0.9318181818181818, 0.7954545454545454, 0.8636363636363636, 0.8863636363636364, 0.8636363636363636, 0.8863636363636364, 0.875, 0.8863636363636364, 0.875, 0.8977272727272727, 0.8636363636363636, 0.9318181818181818, 0.9090909090909091, 0.9431818181818182, 0.875, 0.9090909090909091, 0.9204545454545454, 0.875, 0.9090909090909091, 0.8636363636363636, 0.8977272727272727, 0.8977272727272727, 0.8977272727272727, 0.8636363636363636, 0.8977272727272727, 0.9090909090909091, 0.8977272727272727, 0.8863636363636364, 0.9318181818181818, 0.9204545454545454, 0.9090909090909091, 0.8863636363636364, 0.8636363636363636, 0.8181818181818182, 0.8977272727272727, 0.8636363636363636, 0.8863636363636364, 0.9090909090909091, 0.8863636363636364, 0.9318181818181818, 0.9318181818181818, 0.8977272727272727, 0.9090909090909091, 0.8977272727272727, 0.8977272727272727, 0.9090909090909091, 0.8977272727272727, 0.875, 0.9090909090909091, 0.875, 0.9318181818181818, 0.9204545454545454, 0.9318181818181818, 0.9090909090909091]\n",
            "Melhor max iter =  200\n",
            "Melhor hidden layer =  50\n",
            "Melhor learning rate =  0.6\n",
            "Acuracia com os melhores parametros =  0.9659090909090909\n"
          ],
          "name": "stdout"
        }
      ]
    },
    {
      "cell_type": "markdown",
      "metadata": {
        "id": "0CI7LmGyekev"
      },
      "source": [
        "O melhor MLP foi com os seguintes parametros:\n",
        "\n",
        "*   Melhor épocas de treino =  200\n",
        "*   Melhor camadas escondidas =  250\n",
        "*   Melhor taxa de aprendizagem =  0.4\n",
        "\n"
      ]
    },
    {
      "cell_type": "markdown",
      "metadata": {
        "id": "6TcowMMANW5J"
      },
      "source": [
        "# Avaliando os classificadores"
      ]
    },
    {
      "cell_type": "code",
      "metadata": {
        "id": "JI4y5tf-NL2R"
      },
      "source": [
        "acuraciaknn = []\n",
        "acuraciaad = []\n",
        "acuracianb = []\n",
        "acuraciasvm = []\n",
        "acuraciamlp = []\n",
        "\n",
        "soma = []\n",
        "produto = []\n",
        "\n",
        "for i in range(1,21):\n",
        "\n",
        "  #Realiza a divisão (metade para cada, 50% para treino e 50% para restante)\n",
        "  x_treino, x_restante, y_treino, y_restante = train_test_split(df_param, df['Class'], test_size=0.5, shuffle=True, stratify=df['Class'])\n",
        "\n",
        "  #Realiza a divisão do restante (metade para cada, 50% para teste e 50% para validação)\n",
        "  x_validacao, x_teste, y_validacao, y_teste = train_test_split(x_restante, y_restante, test_size=0.5, shuffle=True, stratify=y_restante)\n",
        "    \n",
        "  # KNN\n",
        "  # Inicializa o classificador com o melhor parametro\n",
        "  knn = KNeighborsClassifier(n_neighbors = 2)\n",
        "  knn.fit(x_treino, y_treino)\n",
        "  prev = knn.predict(x_teste)\n",
        "  \n",
        "  acuraciaknn.append(accuracy_score(y_teste, prev))\n",
        "\n",
        "  # Avalia a precisão\n",
        "  clasiffication_knn = classification_report(y_teste, prev)\n",
        "  knn_prev = prev  \n",
        "\n",
        "  # Árvore de decisão\n",
        "  # Inicializa o classificador com o melhor parametro\n",
        "  ad = DecisionTreeClassifier(max_depth = 3)\n",
        "  ad.fit(x_treino, y_treino) \n",
        "  prev = ad.predict(x_teste)\n",
        "\n",
        "  acuraciaad.append(accuracy_score(y_teste, prev))\n",
        "\n",
        "  # Avalia a precisão\n",
        "  clasiffication_ad = classification_report(y_teste, prev)\n",
        "  ad_prev = prev\n",
        "\n",
        "  # NB\n",
        "  # Inicializa o classificador\n",
        "  nb = GaussianNB()\n",
        "  nb.fit(x_treino, y_treino)\n",
        "  prev = nb.predict(x_teste)\n",
        "\n",
        "  acuracianb.append(accuracy_score(y_teste, prev))\n",
        "\n",
        "  # Avalia a precisão\n",
        "  clasiffication_nb = classification_report(y_teste, prev)\n",
        "  nb_prev = prev\n",
        "\n",
        "  # SVM\n",
        "  svm_radial = SVC(C=2, kernel='rbf', probability=True)\n",
        "  svm_radial.fit(x_treino, y_treino)\n",
        "  prev = svm_radial.predict(x_teste)\n",
        "\n",
        "  acuraciasvm.append(accuracy_score(y_teste, prev))\n",
        "  \n",
        "  # Avalia a precisão\n",
        "  clasiffication_svm = classification_report(y_teste, prev)\n",
        "  svm_prev = prev\n",
        " \n",
        "  # MLP\n",
        "  mlp = MLPClassifier(max_iter=200 , hidden_layer_sizes=50, learning_rate_init=0.4)\n",
        "  mlp.fit(x_treino, y_treino)\n",
        "  prev = mlp.predict(x_teste)\n",
        "\n",
        "  acuraciamlp.append(accuracy_score(y_teste, prev))\n",
        "\n",
        "  # Avalia a precisão\n",
        "  clasiffication_mlp = classification_report(y_teste, prev)\n",
        "  mlp_prev = prev\n",
        "\n",
        "  svm_proba = svm_radial.predict_proba(x_teste)\n",
        "  knn_proba = knn.predict_proba(x_teste)\n",
        "  ad_proba = ad.predict_proba(x_teste)\n",
        "  mlp_proba = mlp.predict_proba(x_teste)\n",
        "  nb_proba = nb.predict_proba(x_teste)\n",
        "\n",
        "\n",
        "print(\"KNN\")\n",
        "print(\"\")\n",
        "print(\"Acuracias = \", acuraciaknn)\n",
        "print(\"Maior acuracia = \", acuraciaknn[np.argmax(acuraciaknn)])\n",
        "print(\"Desvio padrão = \", statistics.pstdev(acuraciaknn))\n",
        "print(\"Media geometrica = \", statistics.mean(acuraciaknn))\n",
        "print(clasiffication_knn)\n",
        "print(\"\")\n",
        "print(\"-----------------------------------------------------------------------\")\n",
        "print(\"\")\n",
        "print(\"Árvore de decisão\")\n",
        "print(\"\")\n",
        "print(acuraciaad)\n",
        "print(\"Maior acuracia = \", acuraciaad[np.argmax(acuraciaad)])\n",
        "print(\"Desvio padrão = \", statistics.pstdev(acuraciaad))\n",
        "print(\"Media geometrica = \", statistics.mean(acuraciaad))\n",
        "print(clasiffication_ad)\n",
        "print(\"\")\n",
        "print(\"-----------------------------------------------------------------------\")\n",
        "print(\"\")\n",
        "print(\"Naive Bayes\")\n",
        "print(\"\")\n",
        "print(acuracianb)\n",
        "print(\"Maior acuracia = \", acuracianb[np.argmax(acuracianb)])\n",
        "print(\"Desvio padrão = \", statistics.pstdev(acuracianb))\n",
        "print(\"Media geometrica = \", statistics.mean(acuracianb))\n",
        "print(clasiffication_nb)\n",
        "print(\"\")\n",
        "print(\"-----------------------------------------------------------------------\")\n",
        "print(\"\")\n",
        "print(\"SVM\")\n",
        "print(\"\")\n",
        "print(acuraciasvm)\n",
        "print(\"Maior acuracia = \", acuraciasvm[np.argmax(acuraciasvm)])\n",
        "print(\"Desvio padrão = \", statistics.pstdev(acuraciasvm))\n",
        "print(\"Media geometrica = \", statistics.mean(acuraciasvm))\n",
        "print(clasiffication_svm)\n",
        "print(\"\")\n",
        "print(\"-----------------------------------------------------------------------\")\n",
        "print(\"\")\n",
        "print(\"MLP\")\n",
        "print(\"\")\n",
        "print(acuraciamlp)\n",
        "print(\"Maior acuracia = \", acuraciamlp[np.argmax(acuraciamlp)])\n",
        "print(\"Desvio padrão = \", statistics.pstdev(acuraciamlp))\n",
        "print(\"Media geometrica = \", statistics.mean(acuraciamlp))\n",
        "print(clasiffication_mlp)"
      ],
      "execution_count": null,
      "outputs": []
    }
  ]
}